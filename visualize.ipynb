{
 "cells": [
  {
   "cell_type": "markdown",
   "metadata": {},
   "source": [
    "##### This notebook will introduce the data analysis"
   ]
  },
  {
   "cell_type": "markdown",
   "metadata": {},
   "source": [
    "##### We will analyze Bangladesh's economic data for last few years. Thank You BIZDATA INSIGHTS for providing the data"
   ]
  },
  {
   "cell_type": "markdown",
   "metadata": {},
   "source": [
    "##### First thing first, we will load the data and analyze it"
   ]
  },
  {
   "cell_type": "code",
   "execution_count": 20,
   "metadata": {},
   "outputs": [],
   "source": [
    "import pandas as pd\n",
    "import math"
   ]
  },
  {
   "cell_type": "code",
   "execution_count": 21,
   "metadata": {},
   "outputs": [
    {
     "data": {
      "text/html": [
       "<div>\n",
       "<style scoped>\n",
       "    .dataframe tbody tr th:only-of-type {\n",
       "        vertical-align: middle;\n",
       "    }\n",
       "\n",
       "    .dataframe tbody tr th {\n",
       "        vertical-align: top;\n",
       "    }\n",
       "\n",
       "    .dataframe thead th {\n",
       "        text-align: right;\n",
       "    }\n",
       "</style>\n",
       "<table border=\"1\" class=\"dataframe\">\n",
       "  <thead>\n",
       "    <tr style=\"text-align: right;\">\n",
       "      <th></th>\n",
       "      <th>Sector</th>\n",
       "      <th>Calendar Year</th>\n",
       "      <th>Budget Year</th>\n",
       "      <th>Indicator</th>\n",
       "      <th>Source</th>\n",
       "      <th>Calendar Value</th>\n",
       "      <th>Budget Value</th>\n",
       "      <th>Jan</th>\n",
       "      <th>Feb</th>\n",
       "      <th>Mar</th>\n",
       "      <th>Apr</th>\n",
       "      <th>May</th>\n",
       "      <th>Jun</th>\n",
       "      <th>Jul</th>\n",
       "      <th>Aug</th>\n",
       "      <th>Sep</th>\n",
       "      <th>Oct</th>\n",
       "      <th>Nov</th>\n",
       "      <th>Dec</th>\n",
       "      <th>Unit</th>\n",
       "    </tr>\n",
       "  </thead>\n",
       "  <tbody>\n",
       "    <tr>\n",
       "      <th>0</th>\n",
       "      <td>Economy</td>\n",
       "      <td>NaN</td>\n",
       "      <td>2018-2019</td>\n",
       "      <td>Account Balance</td>\n",
       "      <td>Bangladesh Bank</td>\n",
       "      <td>NaN</td>\n",
       "      <td>-5.25</td>\n",
       "      <td>NaN</td>\n",
       "      <td>NaN</td>\n",
       "      <td>NaN</td>\n",
       "      <td>NaN</td>\n",
       "      <td>NaN</td>\n",
       "      <td>NaN</td>\n",
       "      <td>NaN</td>\n",
       "      <td>NaN</td>\n",
       "      <td>NaN</td>\n",
       "      <td>NaN</td>\n",
       "      <td>NaN</td>\n",
       "      <td>NaN</td>\n",
       "      <td>Billion USD</td>\n",
       "    </tr>\n",
       "    <tr>\n",
       "      <th>1</th>\n",
       "      <td>Economy</td>\n",
       "      <td>NaN</td>\n",
       "      <td>2017-2018</td>\n",
       "      <td>Account Balance</td>\n",
       "      <td>Bangladesh Bank</td>\n",
       "      <td>NaN</td>\n",
       "      <td>-9.78</td>\n",
       "      <td>NaN</td>\n",
       "      <td>NaN</td>\n",
       "      <td>NaN</td>\n",
       "      <td>NaN</td>\n",
       "      <td>NaN</td>\n",
       "      <td>NaN</td>\n",
       "      <td>NaN</td>\n",
       "      <td>NaN</td>\n",
       "      <td>NaN</td>\n",
       "      <td>NaN</td>\n",
       "      <td>NaN</td>\n",
       "      <td>NaN</td>\n",
       "      <td>Billion USD</td>\n",
       "    </tr>\n",
       "    <tr>\n",
       "      <th>2</th>\n",
       "      <td>Economy</td>\n",
       "      <td>NaN</td>\n",
       "      <td>2016-2017</td>\n",
       "      <td>Account Balance</td>\n",
       "      <td>Bangladesh Bank</td>\n",
       "      <td>NaN</td>\n",
       "      <td>-1.33</td>\n",
       "      <td>NaN</td>\n",
       "      <td>NaN</td>\n",
       "      <td>NaN</td>\n",
       "      <td>NaN</td>\n",
       "      <td>NaN</td>\n",
       "      <td>NaN</td>\n",
       "      <td>NaN</td>\n",
       "      <td>NaN</td>\n",
       "      <td>NaN</td>\n",
       "      <td>NaN</td>\n",
       "      <td>NaN</td>\n",
       "      <td>NaN</td>\n",
       "      <td>Billion USD</td>\n",
       "    </tr>\n",
       "    <tr>\n",
       "      <th>3</th>\n",
       "      <td>Economy</td>\n",
       "      <td>NaN</td>\n",
       "      <td>2015-2016</td>\n",
       "      <td>Account Balance</td>\n",
       "      <td>Bangladesh Bank</td>\n",
       "      <td>NaN</td>\n",
       "      <td>4.26</td>\n",
       "      <td>NaN</td>\n",
       "      <td>NaN</td>\n",
       "      <td>NaN</td>\n",
       "      <td>NaN</td>\n",
       "      <td>NaN</td>\n",
       "      <td>NaN</td>\n",
       "      <td>NaN</td>\n",
       "      <td>NaN</td>\n",
       "      <td>NaN</td>\n",
       "      <td>NaN</td>\n",
       "      <td>NaN</td>\n",
       "      <td>NaN</td>\n",
       "      <td>Billion USD</td>\n",
       "    </tr>\n",
       "    <tr>\n",
       "      <th>4</th>\n",
       "      <td>Economy</td>\n",
       "      <td>NaN</td>\n",
       "      <td>2014-2015</td>\n",
       "      <td>Account Balance</td>\n",
       "      <td>Bangladesh Bank</td>\n",
       "      <td>NaN</td>\n",
       "      <td>3.49</td>\n",
       "      <td>NaN</td>\n",
       "      <td>NaN</td>\n",
       "      <td>NaN</td>\n",
       "      <td>NaN</td>\n",
       "      <td>NaN</td>\n",
       "      <td>NaN</td>\n",
       "      <td>NaN</td>\n",
       "      <td>NaN</td>\n",
       "      <td>NaN</td>\n",
       "      <td>NaN</td>\n",
       "      <td>NaN</td>\n",
       "      <td>NaN</td>\n",
       "      <td>Billion USD</td>\n",
       "    </tr>\n",
       "  </tbody>\n",
       "</table>\n",
       "</div>"
      ],
      "text/plain": [
       "    Sector  Calendar Year Budget Year        Indicator           Source  \\\n",
       "0  Economy            NaN   2018-2019  Account Balance  Bangladesh Bank   \n",
       "1  Economy            NaN   2017-2018  Account Balance  Bangladesh Bank   \n",
       "2  Economy            NaN   2016-2017  Account Balance  Bangladesh Bank   \n",
       "3  Economy            NaN   2015-2016  Account Balance  Bangladesh Bank   \n",
       "4  Economy            NaN   2014-2015  Account Balance  Bangladesh Bank   \n",
       "\n",
       "  Calendar Value Budget Value  Jan  Feb  Mar  Apr  May  Jun  Jul  Aug  Sep  \\\n",
       "0            NaN        -5.25  NaN  NaN  NaN  NaN  NaN  NaN  NaN  NaN  NaN   \n",
       "1            NaN        -9.78  NaN  NaN  NaN  NaN  NaN  NaN  NaN  NaN  NaN   \n",
       "2            NaN        -1.33  NaN  NaN  NaN  NaN  NaN  NaN  NaN  NaN  NaN   \n",
       "3            NaN         4.26  NaN  NaN  NaN  NaN  NaN  NaN  NaN  NaN  NaN   \n",
       "4            NaN         3.49  NaN  NaN  NaN  NaN  NaN  NaN  NaN  NaN  NaN   \n",
       "\n",
       "   Oct  Nov  Dec         Unit  \n",
       "0  NaN  NaN  NaN  Billion USD  \n",
       "1  NaN  NaN  NaN  Billion USD  \n",
       "2  NaN  NaN  NaN  Billion USD  \n",
       "3  NaN  NaN  NaN  Billion USD  \n",
       "4  NaN  NaN  NaN  Billion USD  "
      ]
     },
     "execution_count": 21,
     "metadata": {},
     "output_type": "execute_result"
    }
   ],
   "source": [
    "data = pd.read_csv('BizDataINSIGHTMaster.xlsx-Economy.csv')\n",
    "data.head()"
   ]
  },
  {
   "cell_type": "markdown",
   "metadata": {},
   "source": [
    "##### This database has yearly, budget yearly and monthly data. We have yearly data with indicator and source. We will seperate the data into yearly, budget yearly and monthly to get a clear picture."
   ]
  },
  {
   "cell_type": "code",
   "execution_count": 22,
   "metadata": {},
   "outputs": [
    {
     "data": {
      "text/html": [
       "<div>\n",
       "<style scoped>\n",
       "    .dataframe tbody tr th:only-of-type {\n",
       "        vertical-align: middle;\n",
       "    }\n",
       "\n",
       "    .dataframe tbody tr th {\n",
       "        vertical-align: top;\n",
       "    }\n",
       "\n",
       "    .dataframe thead th {\n",
       "        text-align: right;\n",
       "    }\n",
       "</style>\n",
       "<table border=\"1\" class=\"dataframe\">\n",
       "  <thead>\n",
       "    <tr style=\"text-align: right;\">\n",
       "      <th></th>\n",
       "      <th>Sector</th>\n",
       "      <th>Calendar Year</th>\n",
       "      <th>Budget Year</th>\n",
       "      <th>Indicator</th>\n",
       "      <th>Source</th>\n",
       "      <th>Calendar Value</th>\n",
       "      <th>Budget Value</th>\n",
       "      <th>Jan</th>\n",
       "      <th>Feb</th>\n",
       "      <th>Mar</th>\n",
       "      <th>Apr</th>\n",
       "      <th>May</th>\n",
       "      <th>Jun</th>\n",
       "      <th>Jul</th>\n",
       "      <th>Aug</th>\n",
       "      <th>Sep</th>\n",
       "      <th>Oct</th>\n",
       "      <th>Nov</th>\n",
       "      <th>Dec</th>\n",
       "      <th>Unit</th>\n",
       "    </tr>\n",
       "  </thead>\n",
       "  <tbody>\n",
       "    <tr>\n",
       "      <th>114</th>\n",
       "      <td>Economy</td>\n",
       "      <td>2011.0</td>\n",
       "      <td>NaN</td>\n",
       "      <td>Current Account Balance</td>\n",
       "      <td>World Bank</td>\n",
       "      <td>-161.84</td>\n",
       "      <td>NaN</td>\n",
       "      <td>NaN</td>\n",
       "      <td>NaN</td>\n",
       "      <td>NaN</td>\n",
       "      <td>NaN</td>\n",
       "      <td>NaN</td>\n",
       "      <td>NaN</td>\n",
       "      <td>NaN</td>\n",
       "      <td>NaN</td>\n",
       "      <td>NaN</td>\n",
       "      <td>NaN</td>\n",
       "      <td>NaN</td>\n",
       "      <td>NaN</td>\n",
       "      <td>Million USD</td>\n",
       "    </tr>\n",
       "    <tr>\n",
       "      <th>115</th>\n",
       "      <td>Economy</td>\n",
       "      <td>2012.0</td>\n",
       "      <td>NaN</td>\n",
       "      <td>Current Account Balance</td>\n",
       "      <td>World Bank</td>\n",
       "      <td>2575.50</td>\n",
       "      <td>NaN</td>\n",
       "      <td>NaN</td>\n",
       "      <td>NaN</td>\n",
       "      <td>NaN</td>\n",
       "      <td>NaN</td>\n",
       "      <td>NaN</td>\n",
       "      <td>NaN</td>\n",
       "      <td>NaN</td>\n",
       "      <td>NaN</td>\n",
       "      <td>NaN</td>\n",
       "      <td>NaN</td>\n",
       "      <td>NaN</td>\n",
       "      <td>NaN</td>\n",
       "      <td>Million USD</td>\n",
       "    </tr>\n",
       "    <tr>\n",
       "      <th>116</th>\n",
       "      <td>Economy</td>\n",
       "      <td>2013.0</td>\n",
       "      <td>NaN</td>\n",
       "      <td>Current Account Balance</td>\n",
       "      <td>World Bank</td>\n",
       "      <td>2058.47</td>\n",
       "      <td>NaN</td>\n",
       "      <td>NaN</td>\n",
       "      <td>NaN</td>\n",
       "      <td>NaN</td>\n",
       "      <td>NaN</td>\n",
       "      <td>NaN</td>\n",
       "      <td>NaN</td>\n",
       "      <td>NaN</td>\n",
       "      <td>NaN</td>\n",
       "      <td>NaN</td>\n",
       "      <td>NaN</td>\n",
       "      <td>NaN</td>\n",
       "      <td>NaN</td>\n",
       "      <td>Million USD</td>\n",
       "    </tr>\n",
       "    <tr>\n",
       "      <th>117</th>\n",
       "      <td>Economy</td>\n",
       "      <td>2014.0</td>\n",
       "      <td>NaN</td>\n",
       "      <td>Current Account Balance</td>\n",
       "      <td>World Bank</td>\n",
       "      <td>755.79</td>\n",
       "      <td>NaN</td>\n",
       "      <td>NaN</td>\n",
       "      <td>NaN</td>\n",
       "      <td>NaN</td>\n",
       "      <td>NaN</td>\n",
       "      <td>NaN</td>\n",
       "      <td>NaN</td>\n",
       "      <td>NaN</td>\n",
       "      <td>NaN</td>\n",
       "      <td>NaN</td>\n",
       "      <td>NaN</td>\n",
       "      <td>NaN</td>\n",
       "      <td>NaN</td>\n",
       "      <td>Million USD</td>\n",
       "    </tr>\n",
       "    <tr>\n",
       "      <th>118</th>\n",
       "      <td>Economy</td>\n",
       "      <td>2015.0</td>\n",
       "      <td>NaN</td>\n",
       "      <td>Current Account Balance</td>\n",
       "      <td>World Bank</td>\n",
       "      <td>2579.62</td>\n",
       "      <td>NaN</td>\n",
       "      <td>NaN</td>\n",
       "      <td>NaN</td>\n",
       "      <td>NaN</td>\n",
       "      <td>NaN</td>\n",
       "      <td>NaN</td>\n",
       "      <td>NaN</td>\n",
       "      <td>NaN</td>\n",
       "      <td>NaN</td>\n",
       "      <td>NaN</td>\n",
       "      <td>NaN</td>\n",
       "      <td>NaN</td>\n",
       "      <td>NaN</td>\n",
       "      <td>Million USD</td>\n",
       "    </tr>\n",
       "  </tbody>\n",
       "</table>\n",
       "</div>"
      ],
      "text/plain": [
       "      Sector  Calendar Year Budget Year                Indicator      Source  \\\n",
       "114  Economy         2011.0         NaN  Current Account Balance  World Bank   \n",
       "115  Economy         2012.0         NaN  Current Account Balance  World Bank   \n",
       "116  Economy         2013.0         NaN  Current Account Balance  World Bank   \n",
       "117  Economy         2014.0         NaN  Current Account Balance  World Bank   \n",
       "118  Economy         2015.0         NaN  Current Account Balance  World Bank   \n",
       "\n",
       "    Calendar Value Budget Value  Jan  Feb  Mar  Apr  May  Jun  Jul  Aug  Sep  \\\n",
       "114        -161.84          NaN  NaN  NaN  NaN  NaN  NaN  NaN  NaN  NaN  NaN   \n",
       "115        2575.50          NaN  NaN  NaN  NaN  NaN  NaN  NaN  NaN  NaN  NaN   \n",
       "116        2058.47          NaN  NaN  NaN  NaN  NaN  NaN  NaN  NaN  NaN  NaN   \n",
       "117         755.79          NaN  NaN  NaN  NaN  NaN  NaN  NaN  NaN  NaN  NaN   \n",
       "118        2579.62          NaN  NaN  NaN  NaN  NaN  NaN  NaN  NaN  NaN  NaN   \n",
       "\n",
       "     Oct  Nov  Dec         Unit  \n",
       "114  NaN  NaN  NaN  Million USD  \n",
       "115  NaN  NaN  NaN  Million USD  \n",
       "116  NaN  NaN  NaN  Million USD  \n",
       "117  NaN  NaN  NaN  Million USD  \n",
       "118  NaN  NaN  NaN  Million USD  "
      ]
     },
     "execution_count": 22,
     "metadata": {},
     "output_type": "execute_result"
    }
   ],
   "source": [
    "data1 = data.copy()\n",
    "data1 = data1.dropna(subset=['Calendar Year','Calendar Value'])\n",
    "data1.head()"
   ]
  },
  {
   "cell_type": "code",
   "execution_count": 23,
   "metadata": {},
   "outputs": [
    {
     "data": {
      "text/html": [
       "<div>\n",
       "<style scoped>\n",
       "    .dataframe tbody tr th:only-of-type {\n",
       "        vertical-align: middle;\n",
       "    }\n",
       "\n",
       "    .dataframe tbody tr th {\n",
       "        vertical-align: top;\n",
       "    }\n",
       "\n",
       "    .dataframe thead th {\n",
       "        text-align: right;\n",
       "    }\n",
       "</style>\n",
       "<table border=\"1\" class=\"dataframe\">\n",
       "  <thead>\n",
       "    <tr style=\"text-align: right;\">\n",
       "      <th></th>\n",
       "      <th>Calendar Year</th>\n",
       "      <th>Calendar Value</th>\n",
       "      <th>Indicator</th>\n",
       "      <th>Unit</th>\n",
       "    </tr>\n",
       "  </thead>\n",
       "  <tbody>\n",
       "    <tr>\n",
       "      <th>114</th>\n",
       "      <td>2011.0</td>\n",
       "      <td>-161.84</td>\n",
       "      <td>Current Account Balance</td>\n",
       "      <td>Million USD</td>\n",
       "    </tr>\n",
       "    <tr>\n",
       "      <th>115</th>\n",
       "      <td>2012.0</td>\n",
       "      <td>2575.50</td>\n",
       "      <td>Current Account Balance</td>\n",
       "      <td>Million USD</td>\n",
       "    </tr>\n",
       "    <tr>\n",
       "      <th>116</th>\n",
       "      <td>2013.0</td>\n",
       "      <td>2058.47</td>\n",
       "      <td>Current Account Balance</td>\n",
       "      <td>Million USD</td>\n",
       "    </tr>\n",
       "    <tr>\n",
       "      <th>117</th>\n",
       "      <td>2014.0</td>\n",
       "      <td>755.79</td>\n",
       "      <td>Current Account Balance</td>\n",
       "      <td>Million USD</td>\n",
       "    </tr>\n",
       "    <tr>\n",
       "      <th>118</th>\n",
       "      <td>2015.0</td>\n",
       "      <td>2579.62</td>\n",
       "      <td>Current Account Balance</td>\n",
       "      <td>Million USD</td>\n",
       "    </tr>\n",
       "  </tbody>\n",
       "</table>\n",
       "</div>"
      ],
      "text/plain": [
       "     Calendar Year Calendar Value                Indicator         Unit\n",
       "114         2011.0        -161.84  Current Account Balance  Million USD\n",
       "115         2012.0        2575.50  Current Account Balance  Million USD\n",
       "116         2013.0        2058.47  Current Account Balance  Million USD\n",
       "117         2014.0         755.79  Current Account Balance  Million USD\n",
       "118         2015.0        2579.62  Current Account Balance  Million USD"
      ]
     },
     "execution_count": 23,
     "metadata": {},
     "output_type": "execute_result"
    }
   ],
   "source": [
    "data1 = data1[[\"Calendar Year\",\"Calendar Value\", \"Indicator\",\"Unit\"]]\n",
    "data1.head()"
   ]
  },
  {
   "cell_type": "markdown",
   "metadata": {},
   "source": [
    "### Now we can see data1 contains all the yearly data along with the indicators. Now we can analyze and view the data"
   ]
  },
  {
   "cell_type": "code",
   "execution_count": 24,
   "metadata": {},
   "outputs": [
    {
     "data": {
      "text/plain": [
       "39"
      ]
     },
     "execution_count": 24,
     "metadata": {},
     "output_type": "execute_result"
    }
   ],
   "source": [
    "#Total number of unique indicators\n",
    "len(data1['Indicator'].unique())"
   ]
  },
  {
   "cell_type": "code",
   "execution_count": 25,
   "metadata": {},
   "outputs": [
    {
     "data": {
      "text/plain": [
       "6"
      ]
     },
     "execution_count": 25,
     "metadata": {},
     "output_type": "execute_result"
    }
   ],
   "source": [
    "#Total number of unique Units\n",
    "len(data1['Unit'].unique())"
   ]
  },
  {
   "cell_type": "markdown",
   "metadata": {},
   "source": [
    "### So we can see that we can easily get information about the data. And these info will help us to find and work on the correct way. Our target is to visualize the data in a meaningful way"
   ]
  },
  {
   "cell_type": "code",
   "execution_count": 26,
   "metadata": {},
   "outputs": [],
   "source": [
    "### We will use matplotlib for the graphs\n",
    "import matplotlib.pyplot as plt"
   ]
  },
  {
   "cell_type": "code",
   "execution_count": 27,
   "metadata": {},
   "outputs": [
    {
     "data": {
      "text/html": [
       "<div>\n",
       "<style scoped>\n",
       "    .dataframe tbody tr th:only-of-type {\n",
       "        vertical-align: middle;\n",
       "    }\n",
       "\n",
       "    .dataframe tbody tr th {\n",
       "        vertical-align: top;\n",
       "    }\n",
       "\n",
       "    .dataframe thead th {\n",
       "        text-align: right;\n",
       "    }\n",
       "</style>\n",
       "<table border=\"1\" class=\"dataframe\">\n",
       "  <thead>\n",
       "    <tr style=\"text-align: right;\">\n",
       "      <th></th>\n",
       "      <th>Calendar Year</th>\n",
       "      <th>Calendar Value</th>\n",
       "      <th>Indicator</th>\n",
       "      <th>Unit</th>\n",
       "    </tr>\n",
       "  </thead>\n",
       "  <tbody>\n",
       "    <tr>\n",
       "      <th>673</th>\n",
       "      <td>2001.0</td>\n",
       "      <td>53.99</td>\n",
       "      <td>Gross Domestic Product (GDP)</td>\n",
       "      <td>Billion USD</td>\n",
       "    </tr>\n",
       "    <tr>\n",
       "      <th>674</th>\n",
       "      <td>2002.0</td>\n",
       "      <td>54.72</td>\n",
       "      <td>Gross Domestic Product (GDP)</td>\n",
       "      <td>Billion USD</td>\n",
       "    </tr>\n",
       "    <tr>\n",
       "      <th>675</th>\n",
       "      <td>2003.0</td>\n",
       "      <td>60.16</td>\n",
       "      <td>Gross Domestic Product (GDP)</td>\n",
       "      <td>Billion USD</td>\n",
       "    </tr>\n",
       "    <tr>\n",
       "      <th>676</th>\n",
       "      <td>2004.0</td>\n",
       "      <td>65.11</td>\n",
       "      <td>Gross Domestic Product (GDP)</td>\n",
       "      <td>Billion USD</td>\n",
       "    </tr>\n",
       "    <tr>\n",
       "      <th>677</th>\n",
       "      <td>2005.0</td>\n",
       "      <td>69.44</td>\n",
       "      <td>Gross Domestic Product (GDP)</td>\n",
       "      <td>Billion USD</td>\n",
       "    </tr>\n",
       "  </tbody>\n",
       "</table>\n",
       "</div>"
      ],
      "text/plain": [
       "     Calendar Year Calendar Value                     Indicator         Unit\n",
       "673         2001.0          53.99  Gross Domestic Product (GDP)  Billion USD\n",
       "674         2002.0          54.72  Gross Domestic Product (GDP)  Billion USD\n",
       "675         2003.0          60.16  Gross Domestic Product (GDP)  Billion USD\n",
       "676         2004.0          65.11  Gross Domestic Product (GDP)  Billion USD\n",
       "677         2005.0          69.44  Gross Domestic Product (GDP)  Billion USD"
      ]
     },
     "execution_count": 27,
     "metadata": {},
     "output_type": "execute_result"
    }
   ],
   "source": [
    "# We will queary one indicator and plot it\n",
    "data2 = data1.query(\"Indicator == 'Gross Domestic Product (GDP)' \")\n",
    "data2.head()"
   ]
  },
  {
   "cell_type": "code",
   "execution_count": 28,
   "metadata": {},
   "outputs": [
    {
     "data": {
      "text/plain": [
       "<BarContainer object of 20 artists>"
      ]
     },
     "execution_count": 28,
     "metadata": {},
     "output_type": "execute_result"
    },
    {
     "data": {
      "image/png": "[encoded data removed]",
      "text/plain": [
       "<Figure size 640x480 with 1 Axes>"
      ]
     },
     "metadata": {},
     "output_type": "display_data"
    }
   ],
   "source": [
    "plt.bar(data2['Calendar Year'], data2['Calendar Value'])"
   ]
  },
  {
   "cell_type": "code",
   "execution_count": 29,
   "metadata": {},
   "outputs": [
    {
     "data": {
      "text/plain": [
       "array(['Current Account Balance', 'Deposit at Swiss Bank by Bangladeshi',\n",
       "       'Export To Kenya', 'External Debt',\n",
       "       'Extreme poverty / Ultra-poverty (%)',\n",
       "       'FDI - Agriculture & Fishing', 'FDI - Banking',\n",
       "       'FDI - Equity Capital', 'FDI - Food', 'FDI - Intra Company Loans',\n",
       "       'FDI - Power, Gas, Petroleaum', 'FDI - Reinvested earnings',\n",
       "       'FDI - Telecommunications', 'FDI - Textile & Wearing',\n",
       "       'FDI as % of GDP', 'FDI from Hong Kong', 'FDI from India',\n",
       "       'FDI from Japan', 'FDI from Korea', 'FDI from Malaysia',\n",
       "       'FDI from Netherlands', 'FDI from Singapore', 'FDI from Sri Lanka',\n",
       "       'FDI from UK', 'FDI from USA', 'Government Debt (% of GDP)',\n",
       "       'Gross Domestic Product (GDP)', 'Import from Canada',\n",
       "       'Income Inequality in Bangladesh',\n",
       "       'Loan or Credit in Private Sector', 'Net Foreign Investment - DSE',\n",
       "       'Outward FDI from Bangladesh', 'Overall Poverty (%)',\n",
       "       'Per capita Gross National Income (GNI)', 'Remittance',\n",
       "       'Remittance Outflow from Bangladesh',\n",
       "       'Social Protection Expenditure (%) of GDP',\n",
       "       'Tax Revenue (% of GDP)', 'Trade Balance'], dtype=object)"
      ]
     },
     "execution_count": 29,
     "metadata": {},
     "output_type": "execute_result"
    }
   ],
   "source": [
    "data1['Indicator'].unique()"
   ]
  },
  {
   "cell_type": "markdown",
   "metadata": {},
   "source": [
    "#### We can change the indicator value and get different basic plot for it"
   ]
  },
  {
   "cell_type": "markdown",
   "metadata": {},
   "source": [
    "### We can plot multiple indicator at once to see the difference"
   ]
  },
  {
   "cell_type": "code",
   "execution_count": 30,
   "metadata": {},
   "outputs": [
    {
     "data": {
      "text/html": [
       "<div>\n",
       "<style scoped>\n",
       "    .dataframe tbody tr th:only-of-type {\n",
       "        vertical-align: middle;\n",
       "    }\n",
       "\n",
       "    .dataframe tbody tr th {\n",
       "        vertical-align: top;\n",
       "    }\n",
       "\n",
       "    .dataframe thead th {\n",
       "        text-align: right;\n",
       "    }\n",
       "</style>\n",
       "<table border=\"1\" class=\"dataframe\">\n",
       "  <thead>\n",
       "    <tr style=\"text-align: right;\">\n",
       "      <th></th>\n",
       "      <th>Calendar Year</th>\n",
       "      <th>Calendar Value</th>\n",
       "      <th>Indicator</th>\n",
       "      <th>Unit</th>\n",
       "    </tr>\n",
       "  </thead>\n",
       "  <tbody>\n",
       "    <tr>\n",
       "      <th>657</th>\n",
       "      <td>2011.0</td>\n",
       "      <td>32.4%</td>\n",
       "      <td>Government Debt (% of GDP)</td>\n",
       "      <td>Percentage</td>\n",
       "    </tr>\n",
       "    <tr>\n",
       "      <th>658</th>\n",
       "      <td>2012.0</td>\n",
       "      <td>31.8%</td>\n",
       "      <td>Government Debt (% of GDP)</td>\n",
       "      <td>Percentage</td>\n",
       "    </tr>\n",
       "    <tr>\n",
       "      <th>659</th>\n",
       "      <td>2013.0</td>\n",
       "      <td>30.4%</td>\n",
       "      <td>Government Debt (% of GDP)</td>\n",
       "      <td>Percentage</td>\n",
       "    </tr>\n",
       "    <tr>\n",
       "      <th>660</th>\n",
       "      <td>2014.0</td>\n",
       "      <td>29.6%</td>\n",
       "      <td>Government Debt (% of GDP)</td>\n",
       "      <td>Percentage</td>\n",
       "    </tr>\n",
       "    <tr>\n",
       "      <th>661</th>\n",
       "      <td>2015.0</td>\n",
       "      <td>27.7%</td>\n",
       "      <td>Government Debt (% of GDP)</td>\n",
       "      <td>Percentage</td>\n",
       "    </tr>\n",
       "  </tbody>\n",
       "</table>\n",
       "</div>"
      ],
      "text/plain": [
       "     Calendar Year Calendar Value                   Indicator        Unit\n",
       "657         2011.0          32.4%  Government Debt (% of GDP)  Percentage\n",
       "658         2012.0          31.8%  Government Debt (% of GDP)  Percentage\n",
       "659         2013.0          30.4%  Government Debt (% of GDP)  Percentage\n",
       "660         2014.0          29.6%  Government Debt (% of GDP)  Percentage\n",
       "661         2015.0          27.7%  Government Debt (% of GDP)  Percentage"
      ]
     },
     "execution_count": 30,
     "metadata": {},
     "output_type": "execute_result"
    }
   ],
   "source": [
    "# We will queary the second indicator and plot it\n",
    "data3 = data1.query(\"Indicator == 'Government Debt (% of GDP)' \")\n",
    "data3.head()"
   ]
  },
  {
   "cell_type": "code",
   "execution_count": 33,
   "metadata": {},
   "outputs": [
    {
     "data": {
      "image/png": "[encoded data removed]",
      "text/plain": [
       "<Figure size 640x480 with 1 Axes>"
      ]
     },
     "metadata": {},
     "output_type": "display_data"
    }
   ],
   "source": [
    "x = data2['Calendar Year']\n",
    "y = data2['Calendar Value']\n",
    "x1 = data3['Calendar Year']\n",
    "y1 = data3['Calendar Value']\n",
    "plt.plot(x,y)\n",
    "plt.plot(x1, y1, '-.')\n",
    "plt.show()"
   ]
  },
  {
   "cell_type": "code",
   "execution_count": null,
   "metadata": {},
   "outputs": [],
   "source": []
  }
 ],
 "metadata": {
  "kernelspec": {
   "display_name": ".venv",
   "language": "python",
   "name": "python3"
  },
  "language_info": {
   "codemirror_mode": {
    "name": "ipython",
    "version": 3
   },
   "file_extension": ".py",
   "mimetype": "text/x-python",
   "name": "python",
   "nbconvert_exporter": "python",
   "pygments_lexer": "ipython3",
   "version": "3.11.2"
  },
  "orig_nbformat": 4
 },
 "nbformat": 4,
 "nbformat_minor": 2
}
